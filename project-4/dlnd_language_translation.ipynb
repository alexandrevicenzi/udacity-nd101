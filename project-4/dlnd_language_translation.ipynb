{
 "cells": [
  {
   "cell_type": "markdown",
   "metadata": {
    "collapsed": true
   },
   "source": [
    "# Language Translation\n",
    "In this project, you’re going to take a peek into the realm of neural network machine translation.  You’ll be training a sequence to sequence model on a dataset of English and French sentences that can translate new sentences from English to French.\n",
    "## Get the Data\n",
    "Since translating the whole language of English to French will take lots of time to train, we have provided you with a small portion of the English corpus."
   ]
  },
  {
   "cell_type": "code",
   "execution_count": 1,
   "metadata": {},
   "outputs": [
    {
     "name": "stderr",
     "output_type": "stream",
     "text": [
      "/home/alexandre/anaconda3/envs/dlnd/lib/python3.6/importlib/_bootstrap.py:219: RuntimeWarning: compiletime version 3.5 of module 'tensorflow.python.framework.fast_tensor_util' does not match runtime version 3.6\n",
      "  return f(*args, **kwds)\n"
     ]
    }
   ],
   "source": [
    "\"\"\"\n",
    "DON'T MODIFY ANYTHING IN THIS CELL\n",
    "\"\"\"\n",
    "import helper\n",
    "import problem_unittests as tests\n",
    "\n",
    "source_path = 'data/small_vocab_en'\n",
    "target_path = 'data/small_vocab_fr'\n",
    "source_text = helper.load_data(source_path)\n",
    "target_text = helper.load_data(target_path)"
   ]
  },
  {
   "cell_type": "markdown",
   "metadata": {},
   "source": [
    "## Explore the Data\n",
    "Play around with view_sentence_range to view different parts of the data."
   ]
  },
  {
   "cell_type": "code",
   "execution_count": 2,
   "metadata": {},
   "outputs": [
    {
     "name": "stdout",
     "output_type": "stream",
     "text": [
      "Dataset Stats\n",
      "Roughly the number of unique words: 227\n",
      "Number of sentences: 137861\n",
      "Average number of words in a sentence: 13.225277634719028\n",
      "\n",
      "English sentences 0 to 10:\n",
      "new jersey is sometimes quiet during autumn , and it is snowy in april .\n",
      "the united states is usually chilly during july , and it is usually freezing in november .\n",
      "california is usually quiet during march , and it is usually hot in june .\n",
      "the united states is sometimes mild during june , and it is cold in september .\n",
      "your least liked fruit is the grape , but my least liked is the apple .\n",
      "his favorite fruit is the orange , but my favorite is the grape .\n",
      "paris is relaxing during december , but it is usually chilly in july .\n",
      "new jersey is busy during spring , and it is never hot in march .\n",
      "our least liked fruit is the lemon , but my least liked is the grape .\n",
      "the united states is sometimes busy during january , and it is sometimes warm in november .\n",
      "\n",
      "French sentences 0 to 10:\n",
      "new jersey est parfois calme pendant l' automne , et il est neigeux en avril .\n",
      "les états-unis est généralement froid en juillet , et il gèle habituellement en novembre .\n",
      "california est généralement calme en mars , et il est généralement chaud en juin .\n",
      "les états-unis est parfois légère en juin , et il fait froid en septembre .\n",
      "votre moins aimé fruit est le raisin , mais mon moins aimé est la pomme .\n",
      "son fruit préféré est l'orange , mais mon préféré est le raisin .\n",
      "paris est relaxant en décembre , mais il est généralement froid en juillet .\n",
      "new jersey est occupé au printemps , et il est jamais chaude en mars .\n",
      "notre fruit est moins aimé le citron , mais mon moins aimé est le raisin .\n",
      "les états-unis est parfois occupé en janvier , et il est parfois chaud en novembre .\n"
     ]
    }
   ],
   "source": [
    "view_sentence_range = (0, 10)\n",
    "\n",
    "\"\"\"\n",
    "DON'T MODIFY ANYTHING IN THIS CELL\n",
    "\"\"\"\n",
    "import numpy as np\n",
    "\n",
    "print('Dataset Stats')\n",
    "print('Roughly the number of unique words: {}'.format(len({word: None for word in source_text.split()})))\n",
    "\n",
    "sentences = source_text.split('\\n')\n",
    "word_counts = [len(sentence.split()) for sentence in sentences]\n",
    "print('Number of sentences: {}'.format(len(sentences)))\n",
    "print('Average number of words in a sentence: {}'.format(np.average(word_counts)))\n",
    "\n",
    "print()\n",
    "print('English sentences {} to {}:'.format(*view_sentence_range))\n",
    "print('\\n'.join(source_text.split('\\n')[view_sentence_range[0]:view_sentence_range[1]]))\n",
    "print()\n",
    "print('French sentences {} to {}:'.format(*view_sentence_range))\n",
    "print('\\n'.join(target_text.split('\\n')[view_sentence_range[0]:view_sentence_range[1]]))"
   ]
  },
  {
   "cell_type": "markdown",
   "metadata": {},
   "source": [
    "## Implement Preprocessing Function\n",
    "### Text to Word Ids\n",
    "As you did with other RNNs, you must turn the text into a number so the computer can understand it. In the function `text_to_ids()`, you'll turn `source_text` and `target_text` from words to ids.  However, you need to add the `<EOS>` word id at the end of `target_text`.  This will help the neural network predict when the sentence should end.\n",
    "\n",
    "You can get the `<EOS>` word id by doing:\n",
    "```python\n",
    "target_vocab_to_int['<EOS>']\n",
    "```\n",
    "You can get other word ids using `source_vocab_to_int` and `target_vocab_to_int`."
   ]
  },
  {
   "cell_type": "code",
   "execution_count": 40,
   "metadata": {},
   "outputs": [
    {
     "name": "stdout",
     "output_type": "stream",
     "text": [
      "Tests Passed\n"
     ]
    }
   ],
   "source": [
    "def text_to_ids(source_text, target_text, source_vocab_to_int, target_vocab_to_int):\n",
    "    \"\"\"\n",
    "    Convert source and target text to proper word ids\n",
    "    :param source_text: String that contains all the source text.\n",
    "    :param target_text: String that contains all the target text.\n",
    "    :param source_vocab_to_int: Dictionary to go from the source words to an id\n",
    "    :param target_vocab_to_int: Dictionary to go from the target words to an id\n",
    "    :return: A tuple of lists (source_id_text, target_id_text)\n",
    "    \"\"\"\n",
    "    source_text_lines = source_text.split('\\n')\n",
    "    target_text_lines = target_text.split('\\n')\n",
    "    \n",
    "    source_id_text = [[source_vocab_to_int[word] for word in line.split()] for line in source_text_lines]\n",
    "    target_id_text = [[target_vocab_to_int[word] for word in line.split() + ['<EOS>']] for line in target_text_lines]\n",
    "    \n",
    "    return source_id_text, target_id_text\n",
    "\n",
    "\"\"\"\n",
    "DON'T MODIFY ANYTHING IN THIS CELL THAT IS BELOW THIS LINE\n",
    "\"\"\"\n",
    "tests.test_text_to_ids(text_to_ids)"
   ]
  },
  {
   "cell_type": "markdown",
   "metadata": {},
   "source": [
    "### Preprocess all the data and save it\n",
    "Running the code cell below will preprocess all the data and save it to file."
   ]
  },
  {
   "cell_type": "code",
   "execution_count": 41,
   "metadata": {},
   "outputs": [],
   "source": [
    "\"\"\"\n",
    "DON'T MODIFY ANYTHING IN THIS CELL\n",
    "\"\"\"\n",
    "helper.preprocess_and_save_data(source_path, target_path, text_to_ids)"
   ]
  },
  {
   "cell_type": "markdown",
   "metadata": {},
   "source": [
    "# Check Point\n",
    "This is your first checkpoint. If you ever decide to come back to this notebook or have to restart the notebook, you can start from here. The preprocessed data has been saved to disk."
   ]
  },
  {
   "cell_type": "code",
   "execution_count": 1,
   "metadata": {},
   "outputs": [
    {
     "name": "stderr",
     "output_type": "stream",
     "text": [
      "/home/alexandre/anaconda3/envs/dlnd/lib/python3.6/importlib/_bootstrap.py:219: RuntimeWarning: compiletime version 3.5 of module 'tensorflow.python.framework.fast_tensor_util' does not match runtime version 3.6\n",
      "  return f(*args, **kwds)\n"
     ]
    }
   ],
   "source": [
    "\"\"\"\n",
    "DON'T MODIFY ANYTHING IN THIS CELL\n",
    "\"\"\"\n",
    "import numpy as np\n",
    "import helper\n",
    "import problem_unittests as tests\n",
    "\n",
    "(source_int_text, target_int_text), (source_vocab_to_int, target_vocab_to_int), _ = helper.load_preprocess()"
   ]
  },
  {
   "cell_type": "markdown",
   "metadata": {},
   "source": [
    "### Check the Version of TensorFlow and Access to GPU\n",
    "This will check to make sure you have the correct version of TensorFlow and access to a GPU"
   ]
  },
  {
   "cell_type": "code",
   "execution_count": 2,
   "metadata": {},
   "outputs": [
    {
     "name": "stdout",
     "output_type": "stream",
     "text": [
      "TensorFlow Version: 1.4.1\n"
     ]
    },
    {
     "name": "stderr",
     "output_type": "stream",
     "text": [
      "/home/alexandre/anaconda3/envs/dlnd/lib/python3.6/site-packages/ipykernel_launcher.py:15: UserWarning: No GPU found. Please use a GPU to train your neural network.\n",
      "  from ipykernel import kernelapp as app\n"
     ]
    }
   ],
   "source": [
    "\"\"\"\n",
    "DON'T MODIFY ANYTHING IN THIS CELL\n",
    "\"\"\"\n",
    "from distutils.version import LooseVersion\n",
    "import warnings\n",
    "import tensorflow as tf\n",
    "from tensorflow.python.layers.core import Dense\n",
    "\n",
    "# Check TensorFlow Version\n",
    "assert LooseVersion(tf.__version__) >= LooseVersion('1.1'), 'Please use TensorFlow version 1.1 or newer'\n",
    "print('TensorFlow Version: {}'.format(tf.__version__))\n",
    "\n",
    "# Check for a GPU\n",
    "if not tf.test.gpu_device_name():\n",
    "    warnings.warn('No GPU found. Please use a GPU to train your neural network.')\n",
    "else:\n",
    "    print('Default GPU Device: {}'.format(tf.test.gpu_device_name()))"
   ]
  },
  {
   "cell_type": "markdown",
   "metadata": {},
   "source": [
    "## Build the Neural Network\n",
    "You'll build the components necessary to build a Sequence-to-Sequence model by implementing the following functions below:\n",
    "- `model_inputs`\n",
    "- `process_decoder_input`\n",
    "- `encoding_layer`\n",
    "- `decoding_layer_train`\n",
    "- `decoding_layer_infer`\n",
    "- `decoding_layer`\n",
    "- `seq2seq_model`\n",
    "\n",
    "### Input\n",
    "Implement the `model_inputs()` function to create TF Placeholders for the Neural Network. It should create the following placeholders:\n",
    "\n",
    "- Input text placeholder named \"input\" using the TF Placeholder name parameter with rank 2.\n",
    "- Targets placeholder with rank 2.\n",
    "- Learning rate placeholder with rank 0.\n",
    "- Keep probability placeholder named \"keep_prob\" using the TF Placeholder name parameter with rank 0.\n",
    "- Target sequence length placeholder named \"target_sequence_length\" with rank 1\n",
    "- Max target sequence length tensor named \"max_target_len\" getting its value from applying tf.reduce_max on the target_sequence_length placeholder. Rank 0.\n",
    "- Source sequence length placeholder named \"source_sequence_length\" with rank 1\n",
    "\n",
    "Return the placeholders in the following the tuple (input, targets, learning rate, keep probability, target sequence length, max target sequence length, source sequence length)"
   ]
  },
  {
   "cell_type": "code",
   "execution_count": 3,
   "metadata": {},
   "outputs": [
    {
     "name": "stdout",
     "output_type": "stream",
     "text": [
      "Tests Passed\n"
     ]
    }
   ],
   "source": [
    "def model_inputs():\n",
    "    \"\"\"\n",
    "    Create TF Placeholders for input, targets, learning rate, and lengths of source and target sequences.\n",
    "    :return: Tuple (input, targets, learning rate, keep probability, target sequence length,\n",
    "    max target sequence length, source sequence length)\n",
    "    \"\"\"\n",
    "    inputs = tf.placeholder(tf.int32, shape=[None, None], name='input')\n",
    "    targets = tf.placeholder(tf.int32, shape=[None, None])\n",
    "    learning_rate = tf.placeholder(tf.float32)\n",
    "    keep_probability = tf.placeholder(tf.float32, name='keep_prob')\n",
    "    target_sequence_length = tf.placeholder(tf.int32, shape=[None], name='target_sequence_length')\n",
    "    max_target_sequence_length = tf.reduce_max(target_sequence_length, name='max_target_len')\n",
    "    source_sequence_length = tf.placeholder(tf.int32, shape=[None], name='source_sequence_length')\n",
    "\n",
    "    return (\n",
    "        inputs,\n",
    "        targets,\n",
    "        learning_rate,\n",
    "        keep_probability,\n",
    "        target_sequence_length,\n",
    "        max_target_sequence_length,\n",
    "        source_sequence_length,\n",
    "    )\n",
    "\n",
    "\n",
    "\"\"\"\n",
    "DON'T MODIFY ANYTHING IN THIS CELL THAT IS BELOW THIS LINE\n",
    "\"\"\"\n",
    "tests.test_model_inputs(model_inputs)"
   ]
  },
  {
   "cell_type": "markdown",
   "metadata": {},
   "source": [
    "### Process Decoder Input\n",
    "Implement `process_decoder_input` by removing the last word id from each batch in `target_data` and concat the GO ID to the begining of each batch."
   ]
  },
  {
   "cell_type": "code",
   "execution_count": 4,
   "metadata": {},
   "outputs": [
    {
     "name": "stdout",
     "output_type": "stream",
     "text": [
      "Tests Passed\n"
     ]
    }
   ],
   "source": [
    "def process_decoder_input(target_data, target_vocab_to_int, batch_size):\n",
    "    \"\"\"\n",
    "    Preprocess target data for encoding\n",
    "    :param target_data: Target Placehoder\n",
    "    :param target_vocab_to_int: Dictionary to go from the target words to an id\n",
    "    :param batch_size: Batch Size\n",
    "    :return: Preprocessed target data\n",
    "    \"\"\"\n",
    "    go_id = tf.constant(target_vocab_to_int['<GO>'], shape=(batch_size, 1), dtype=tf.int32)\n",
    "    data = tf.concat([go_id, target_data[:, :-1]], 1)\n",
    "    return data\n",
    "\n",
    "\n",
    "\"\"\"\n",
    "DON'T MODIFY ANYTHING IN THIS CELL THAT IS BELOW THIS LINE\n",
    "\"\"\"\n",
    "tests.test_process_encoding_input(process_decoder_input)"
   ]
  },
  {
   "cell_type": "markdown",
   "metadata": {},
   "source": [
    "### Encoding\n",
    "Implement `encoding_layer()` to create a Encoder RNN layer:\n",
    " * Embed the encoder input using [`tf.contrib.layers.embed_sequence`](https://www.tensorflow.org/api_docs/python/tf/contrib/layers/embed_sequence)\n",
    " * Construct a [stacked](https://github.com/tensorflow/tensorflow/blob/6947f65a374ebf29e74bb71e36fd82760056d82c/tensorflow/docs_src/tutorials/recurrent.md#stacking-multiple-lstms) [`tf.contrib.rnn.LSTMCell`](https://www.tensorflow.org/api_docs/python/tf/contrib/rnn/LSTMCell) wrapped in a [`tf.contrib.rnn.DropoutWrapper`](https://www.tensorflow.org/api_docs/python/tf/contrib/rnn/DropoutWrapper)\n",
    " * Pass cell and embedded input to [`tf.nn.dynamic_rnn()`](https://www.tensorflow.org/api_docs/python/tf/nn/dynamic_rnn)"
   ]
  },
  {
   "cell_type": "code",
   "execution_count": 5,
   "metadata": {
    "scrolled": false
   },
   "outputs": [
    {
     "name": "stdout",
     "output_type": "stream",
     "text": [
      "Tests Passed\n"
     ]
    }
   ],
   "source": [
    "from imp import reload\n",
    "reload(tests)\n",
    "\n",
    "def encoding_layer(rnn_inputs, rnn_size, num_layers, keep_prob, \n",
    "                   source_sequence_length, source_vocab_size, \n",
    "                   encoding_embedding_size):\n",
    "    \"\"\"\n",
    "    Create encoding layer\n",
    "    :param rnn_inputs: Inputs for the RNN\n",
    "    :param rnn_size: RNN Size\n",
    "    :param num_layers: Number of layers\n",
    "    :param keep_prob: Dropout keep probability\n",
    "    :param source_sequence_length: a list of the lengths of each sequence in the batch\n",
    "    :param source_vocab_size: vocabulary size of source data\n",
    "    :param encoding_embedding_size: embedding size of source data\n",
    "    :return: tuple (RNN output, RNN state)\n",
    "    \"\"\"\n",
    "    \n",
    "    def build_cell():\n",
    "        lstm = tf.contrib.rnn.LSTMCell(rnn_size)\n",
    "        lstm = tf.contrib.rnn.DropoutWrapper(lstm, output_keep_prob=keep_prob)\n",
    "        return lstm\n",
    "    \n",
    "    cell = tf.contrib.rnn.MultiRNNCell([build_cell() for _ in range(num_layers)])\n",
    "\n",
    "    embed = tf.contrib.layers.embed_sequence(rnn_inputs,\n",
    "                                             vocab_size=source_vocab_size,\n",
    "                                             embed_dim=encoding_embedding_size)\n",
    "    \n",
    "    return tf.nn.dynamic_rnn(cell, embed, source_sequence_length, dtype=tf.float32)\n",
    "\n",
    "\n",
    "\"\"\"\n",
    "DON'T MODIFY ANYTHING IN THIS CELL THAT IS BELOW THIS LINE\n",
    "\"\"\"\n",
    "tests.test_encoding_layer(encoding_layer)"
   ]
  },
  {
   "cell_type": "markdown",
   "metadata": {},
   "source": [
    "### Decoding - Training\n",
    "Create a training decoding layer:\n",
    "* Create a [`tf.contrib.seq2seq.TrainingHelper`](https://www.tensorflow.org/api_docs/python/tf/contrib/seq2seq/TrainingHelper) \n",
    "* Create a [`tf.contrib.seq2seq.BasicDecoder`](https://www.tensorflow.org/api_docs/python/tf/contrib/seq2seq/BasicDecoder)\n",
    "* Obtain the decoder outputs from [`tf.contrib.seq2seq.dynamic_decode`](https://www.tensorflow.org/api_docs/python/tf/contrib/seq2seq/dynamic_decode)"
   ]
  },
  {
   "cell_type": "code",
   "execution_count": 6,
   "metadata": {},
   "outputs": [
    {
     "name": "stdout",
     "output_type": "stream",
     "text": [
      "Tests Passed\n"
     ]
    }
   ],
   "source": [
    "\n",
    "def decoding_layer_train(encoder_state, dec_cell, dec_embed_input, \n",
    "                         target_sequence_length, max_summary_length, \n",
    "                         output_layer, keep_prob):\n",
    "    \"\"\"\n",
    "    Create a decoding layer for training\n",
    "    :param encoder_state: Encoder State\n",
    "    :param dec_cell: Decoder RNN Cell\n",
    "    :param dec_embed_input: Decoder embedded input\n",
    "    :param target_sequence_length: The lengths of each sequence in the target batch\n",
    "    :param max_summary_length: The length of the longest sequence in the batch\n",
    "    :param output_layer: Function to apply the output layer\n",
    "    :param keep_prob: Dropout keep probability\n",
    "    :return: BasicDecoderOutput containing training logits and sample_id\n",
    "    \"\"\"\n",
    "\n",
    "    helper = tf.contrib.seq2seq.TrainingHelper(dec_embed_input, target_sequence_length)\n",
    "    decoder = tf.contrib.seq2seq.BasicDecoder(dec_cell, helper, encoder_state, output_layer)\n",
    "    output, _, _ = tf.contrib.seq2seq.dynamic_decode(decoder,\n",
    "                                                     impute_finished=True,\n",
    "                                                     maximum_iterations=max_summary_length)\n",
    "    \n",
    "    return output\n",
    "\n",
    "\n",
    "\"\"\"\n",
    "DON'T MODIFY ANYTHING IN THIS CELL THAT IS BELOW THIS LINE\n",
    "\"\"\"\n",
    "tests.test_decoding_layer_train(decoding_layer_train)"
   ]
  },
  {
   "cell_type": "markdown",
   "metadata": {},
   "source": [
    "### Decoding - Inference\n",
    "Create inference decoder:\n",
    "* Create a [`tf.contrib.seq2seq.GreedyEmbeddingHelper`](https://www.tensorflow.org/api_docs/python/tf/contrib/seq2seq/GreedyEmbeddingHelper)\n",
    "* Create a [`tf.contrib.seq2seq.BasicDecoder`](https://www.tensorflow.org/api_docs/python/tf/contrib/seq2seq/BasicDecoder)\n",
    "* Obtain the decoder outputs from [`tf.contrib.seq2seq.dynamic_decode`](https://www.tensorflow.org/api_docs/python/tf/contrib/seq2seq/dynamic_decode)"
   ]
  },
  {
   "cell_type": "code",
   "execution_count": 7,
   "metadata": {
    "scrolled": true
   },
   "outputs": [
    {
     "name": "stdout",
     "output_type": "stream",
     "text": [
      "Tests Passed\n"
     ]
    }
   ],
   "source": [
    "def decoding_layer_infer(encoder_state, dec_cell, dec_embeddings, start_of_sequence_id,\n",
    "                         end_of_sequence_id, max_target_sequence_length,\n",
    "                         vocab_size, output_layer, batch_size, keep_prob):\n",
    "    \"\"\"\n",
    "    Create a decoding layer for inference\n",
    "    :param encoder_state: Encoder state\n",
    "    :param dec_cell: Decoder RNN Cell\n",
    "    :param dec_embeddings: Decoder embeddings\n",
    "    :param start_of_sequence_id: GO ID\n",
    "    :param end_of_sequence_id: EOS Id\n",
    "    :param max_target_sequence_length: Maximum length of target sequences\n",
    "    :param vocab_size: Size of decoder/target vocabulary\n",
    "    :param decoding_scope: TenorFlow Variable Scope for decoding\n",
    "    :param output_layer: Function to apply the output layer\n",
    "    :param batch_size: Batch size\n",
    "    :param keep_prob: Dropout keep probability\n",
    "    :return: BasicDecoderOutput containing inference logits and sample_id\n",
    "    \"\"\"\n",
    "\n",
    "    tokens = tf.tile([start_of_sequence_id], [batch_size])\n",
    "    helper = tf.contrib.seq2seq.GreedyEmbeddingHelper(dec_embeddings, tokens, end_of_sequence_id)\n",
    "    decoder = tf.contrib.seq2seq.BasicDecoder(dec_cell, helper, encoder_state, output_layer)\n",
    "    output, _, _ = tf.contrib.seq2seq.dynamic_decode(decoder,\n",
    "                                                     impute_finished=True,\n",
    "                                                     maximum_iterations=max_target_sequence_length)\n",
    "\n",
    "    return output\n",
    "\n",
    "\n",
    "\n",
    "\"\"\"\n",
    "DON'T MODIFY ANYTHING IN THIS CELL THAT IS BELOW THIS LINE\n",
    "\"\"\"\n",
    "tests.test_decoding_layer_infer(decoding_layer_infer)"
   ]
  },
  {
   "cell_type": "markdown",
   "metadata": {},
   "source": [
    "### Build the Decoding Layer\n",
    "Implement `decoding_layer()` to create a Decoder RNN layer.\n",
    "\n",
    "* Embed the target sequences\n",
    "* Construct the decoder LSTM cell (just like you constructed the encoder cell above)\n",
    "* Create an output layer to map the outputs of the decoder to the elements of our vocabulary\n",
    "* Use the your `decoding_layer_train(encoder_state, dec_cell, dec_embed_input, target_sequence_length, max_target_sequence_length, output_layer, keep_prob)` function to get the training logits.\n",
    "* Use your `decoding_layer_infer(encoder_state, dec_cell, dec_embeddings, start_of_sequence_id, end_of_sequence_id, max_target_sequence_length, vocab_size, output_layer, batch_size, keep_prob)` function to get the inference logits.\n",
    "\n",
    "Note: You'll need to use [tf.variable_scope](https://www.tensorflow.org/api_docs/python/tf/variable_scope) to share variables between training and inference."
   ]
  },
  {
   "cell_type": "code",
   "execution_count": 8,
   "metadata": {},
   "outputs": [
    {
     "name": "stdout",
     "output_type": "stream",
     "text": [
      "Tests Passed\n"
     ]
    }
   ],
   "source": [
    "def decoding_layer(dec_input, encoder_state,\n",
    "                   target_sequence_length, max_target_sequence_length,\n",
    "                   rnn_size,\n",
    "                   num_layers, target_vocab_to_int, target_vocab_size,\n",
    "                   batch_size, keep_prob, decoding_embedding_size):\n",
    "    \"\"\"\n",
    "    Create decoding layer\n",
    "    :param dec_input: Decoder input\n",
    "    :param encoder_state: Encoder state\n",
    "    :param target_sequence_length: The lengths of each sequence in the target batch\n",
    "    :param max_target_sequence_length: Maximum length of target sequences\n",
    "    :param rnn_size: RNN Size\n",
    "    :param num_layers: Number of layers\n",
    "    :param target_vocab_to_int: Dictionary to go from the target words to an id\n",
    "    :param target_vocab_size: Size of target vocabulary\n",
    "    :param batch_size: The size of the batch\n",
    "    :param keep_prob: Dropout keep probability\n",
    "    :param decoding_embedding_size: Decoding embedding size\n",
    "    :return: Tuple of (Training BasicDecoderOutput, Inference BasicDecoderOutput)\n",
    "    \"\"\"\n",
    "\n",
    "    def build_cell():\n",
    "        lstm = tf.contrib.rnn.LSTMCell(rnn_size)\n",
    "        lstm = tf.contrib.rnn.DropoutWrapper(lstm, output_keep_prob=keep_prob)\n",
    "        return lstm\n",
    "\n",
    "    cell = tf.contrib.rnn.MultiRNNCell([build_cell() for _ in range(num_layers)])\n",
    "\n",
    "    dec_embeddings = tf.Variable(tf.random_uniform([target_vocab_size, decoding_embedding_size]))\n",
    "    dec_embed_input = tf.nn.embedding_lookup(dec_embeddings, dec_input)\n",
    "\n",
    "    output_layer = Dense(target_vocab_size,\n",
    "                         kernel_initializer=tf.truncated_normal_initializer(mean=0.0, stddev=0.1))\n",
    "    \n",
    "    start_of_sequence_id = target_vocab_to_int['<GO>']\n",
    "    end_of_sequence_id = target_vocab_to_int['<EOS>']\n",
    "    \n",
    "    with tf.variable_scope(\"decoding\") as scope:\n",
    "        training = decoding_layer_train(encoder_state,\n",
    "                                        cell,\n",
    "                                        dec_embed_input,\n",
    "                                        target_sequence_length,\n",
    "                                        max_target_sequence_length,\n",
    "                                        output_layer,\n",
    "                                        keep_prob)\n",
    "\n",
    "        scope.reuse_variables()\n",
    "        \n",
    "        inference = decoding_layer_infer(encoder_state,\n",
    "                                         cell,\n",
    "                                         dec_embeddings,\n",
    "                                         start_of_sequence_id,\n",
    "                                         end_of_sequence_id,\n",
    "                                         max_target_sequence_length,\n",
    "                                         target_vocab_size,\n",
    "                                         output_layer,\n",
    "                                         batch_size,\n",
    "                                         keep_prob)\n",
    "    \n",
    "    return training, inference\n",
    "\n",
    "\n",
    "\n",
    "\"\"\"\n",
    "DON'T MODIFY ANYTHING IN THIS CELL THAT IS BELOW THIS LINE\n",
    "\"\"\"\n",
    "tests.test_decoding_layer(decoding_layer)"
   ]
  },
  {
   "cell_type": "markdown",
   "metadata": {},
   "source": [
    "### Build the Neural Network\n",
    "Apply the functions you implemented above to:\n",
    "\n",
    "- Encode the input using your `encoding_layer(rnn_inputs, rnn_size, num_layers, keep_prob,  source_sequence_length, source_vocab_size, encoding_embedding_size)`.\n",
    "- Process target data using your `process_decoder_input(target_data, target_vocab_to_int, batch_size)` function.\n",
    "- Decode the encoded input using your `decoding_layer(dec_input, enc_state, target_sequence_length, max_target_sentence_length, rnn_size, num_layers, target_vocab_to_int, target_vocab_size, batch_size, keep_prob, dec_embedding_size)` function."
   ]
  },
  {
   "cell_type": "code",
   "execution_count": 9,
   "metadata": {},
   "outputs": [
    {
     "name": "stdout",
     "output_type": "stream",
     "text": [
      "Tests Passed\n"
     ]
    }
   ],
   "source": [
    "def seq2seq_model(input_data, target_data, keep_prob, batch_size,\n",
    "                  source_sequence_length, target_sequence_length,\n",
    "                  max_target_sentence_length,\n",
    "                  source_vocab_size, target_vocab_size,\n",
    "                  enc_embedding_size, dec_embedding_size,\n",
    "                  rnn_size, num_layers, target_vocab_to_int):\n",
    "    \"\"\"\n",
    "    Build the Sequence-to-Sequence part of the neural network\n",
    "    :param input_data: Input placeholder\n",
    "    :param target_data: Target placeholder\n",
    "    :param keep_prob: Dropout keep probability placeholder\n",
    "    :param batch_size: Batch Size\n",
    "    :param source_sequence_length: Sequence Lengths of source sequences in the batch\n",
    "    :param target_sequence_length: Sequence Lengths of target sequences in the batch\n",
    "    :param source_vocab_size: Source vocabulary size\n",
    "    :param target_vocab_size: Target vocabulary size\n",
    "    :param enc_embedding_size: Decoder embedding size\n",
    "    :param dec_embedding_size: Encoder embedding size\n",
    "    :param rnn_size: RNN Size\n",
    "    :param num_layers: Number of layers\n",
    "    :param target_vocab_to_int: Dictionary to go from the target words to an id\n",
    "    :return: Tuple of (Training BasicDecoderOutput, Inference BasicDecoderOutput)\n",
    "    \"\"\"\n",
    "\n",
    "    _, state = encoding_layer(input_data,\n",
    "                              rnn_size,\n",
    "                              num_layers,\n",
    "                              keep_prob,\n",
    "                              source_sequence_length,\n",
    "                              source_vocab_size,\n",
    "                              enc_embedding_size)\n",
    "    \n",
    "    dec_input = process_decoder_input(target_data,\n",
    "                                      target_vocab_to_int,\n",
    "                                      batch_size)\n",
    "    \n",
    "    training, inference = decoding_layer(dec_input,\n",
    "                                         state,\n",
    "                                         target_sequence_length,\n",
    "                                         max_target_sentence_length,\n",
    "                                         rnn_size,\n",
    "                                         num_layers,\n",
    "                                         target_vocab_to_int,\n",
    "                                         target_vocab_size,\n",
    "                                         batch_size,\n",
    "                                         keep_prob,\n",
    "                                         dec_embedding_size)\n",
    "    \n",
    "    return training, inference\n",
    "\n",
    "\n",
    "\"\"\"\n",
    "DON'T MODIFY ANYTHING IN THIS CELL THAT IS BELOW THIS LINE\n",
    "\"\"\"\n",
    "tests.test_seq2seq_model(seq2seq_model)"
   ]
  },
  {
   "cell_type": "markdown",
   "metadata": {},
   "source": [
    "## Neural Network Training\n",
    "### Hyperparameters\n",
    "Tune the following parameters:\n",
    "\n",
    "- Set `epochs` to the number of epochs.\n",
    "- Set `batch_size` to the batch size.\n",
    "- Set `rnn_size` to the size of the RNNs.\n",
    "- Set `num_layers` to the number of layers.\n",
    "- Set `encoding_embedding_size` to the size of the embedding for the encoder.\n",
    "- Set `decoding_embedding_size` to the size of the embedding for the decoder.\n",
    "- Set `learning_rate` to the learning rate.\n",
    "- Set `keep_probability` to the Dropout keep probability\n",
    "- Set `display_step` to state how many steps between each debug output statement"
   ]
  },
  {
   "cell_type": "code",
   "execution_count": 18,
   "metadata": {},
   "outputs": [],
   "source": [
    "# Number of Epochs\n",
    "epochs = 8\n",
    "# Batch Size\n",
    "batch_size = 512\n",
    "# RNN Size\n",
    "rnn_size = 256\n",
    "# Number of Layers\n",
    "num_layers = 2\n",
    "# Embedding Size\n",
    "encoding_embedding_size = 128\n",
    "decoding_embedding_size = 128\n",
    "# Learning Rate\n",
    "learning_rate = 0.001\n",
    "# Dropout Keep Probability\n",
    "keep_probability = 0.75\n",
    "display_step = 10"
   ]
  },
  {
   "cell_type": "markdown",
   "metadata": {},
   "source": [
    "### Build the Graph\n",
    "Build the graph using the neural network you implemented."
   ]
  },
  {
   "cell_type": "code",
   "execution_count": 19,
   "metadata": {},
   "outputs": [],
   "source": [
    "\"\"\"\n",
    "DON'T MODIFY ANYTHING IN THIS CELL\n",
    "\"\"\"\n",
    "save_path = 'checkpoints/dev'\n",
    "(source_int_text, target_int_text), (source_vocab_to_int, target_vocab_to_int), _ = helper.load_preprocess()\n",
    "max_target_sentence_length = max([len(sentence) for sentence in source_int_text])\n",
    "\n",
    "train_graph = tf.Graph()\n",
    "with train_graph.as_default():\n",
    "    input_data, targets, lr, keep_prob, target_sequence_length, max_target_sequence_length, source_sequence_length = model_inputs()\n",
    "\n",
    "    #sequence_length = tf.placeholder_with_default(max_target_sentence_length, None, name='sequence_length')\n",
    "    input_shape = tf.shape(input_data)\n",
    "\n",
    "    train_logits, inference_logits = seq2seq_model(tf.reverse(input_data, [-1]),\n",
    "                                                   targets,\n",
    "                                                   keep_prob,\n",
    "                                                   batch_size,\n",
    "                                                   source_sequence_length,\n",
    "                                                   target_sequence_length,\n",
    "                                                   max_target_sequence_length,\n",
    "                                                   len(source_vocab_to_int),\n",
    "                                                   len(target_vocab_to_int),\n",
    "                                                   encoding_embedding_size,\n",
    "                                                   decoding_embedding_size,\n",
    "                                                   rnn_size,\n",
    "                                                   num_layers,\n",
    "                                                   target_vocab_to_int)\n",
    "\n",
    "\n",
    "    training_logits = tf.identity(train_logits.rnn_output, name='logits')\n",
    "    inference_logits = tf.identity(inference_logits.sample_id, name='predictions')\n",
    "\n",
    "    masks = tf.sequence_mask(target_sequence_length, max_target_sequence_length, dtype=tf.float32, name='masks')\n",
    "\n",
    "    with tf.name_scope(\"optimization\"):\n",
    "        # Loss function\n",
    "        cost = tf.contrib.seq2seq.sequence_loss(\n",
    "            training_logits,\n",
    "            targets,\n",
    "            masks)\n",
    "\n",
    "        # Optimizer\n",
    "        optimizer = tf.train.AdamOptimizer(lr)\n",
    "\n",
    "        # Gradient Clipping\n",
    "        gradients = optimizer.compute_gradients(cost)\n",
    "        capped_gradients = [(tf.clip_by_value(grad, -1., 1.), var) for grad, var in gradients if grad is not None]\n",
    "        train_op = optimizer.apply_gradients(capped_gradients)\n"
   ]
  },
  {
   "cell_type": "markdown",
   "metadata": {},
   "source": [
    "Batch and pad the source and target sequences"
   ]
  },
  {
   "cell_type": "code",
   "execution_count": 20,
   "metadata": {},
   "outputs": [],
   "source": [
    "\"\"\"\n",
    "DON'T MODIFY ANYTHING IN THIS CELL\n",
    "\"\"\"\n",
    "def pad_sentence_batch(sentence_batch, pad_int):\n",
    "    \"\"\"Pad sentences with <PAD> so that each sentence of a batch has the same length\"\"\"\n",
    "    max_sentence = max([len(sentence) for sentence in sentence_batch])\n",
    "    return [sentence + [pad_int] * (max_sentence - len(sentence)) for sentence in sentence_batch]\n",
    "\n",
    "\n",
    "def get_batches(sources, targets, batch_size, source_pad_int, target_pad_int):\n",
    "    \"\"\"Batch targets, sources, and the lengths of their sentences together\"\"\"\n",
    "    for batch_i in range(0, len(sources)//batch_size):\n",
    "        start_i = batch_i * batch_size\n",
    "\n",
    "        # Slice the right amount for the batch\n",
    "        sources_batch = sources[start_i:start_i + batch_size]\n",
    "        targets_batch = targets[start_i:start_i + batch_size]\n",
    "\n",
    "        # Pad\n",
    "        pad_sources_batch = np.array(pad_sentence_batch(sources_batch, source_pad_int))\n",
    "        pad_targets_batch = np.array(pad_sentence_batch(targets_batch, target_pad_int))\n",
    "\n",
    "        # Need the lengths for the _lengths parameters\n",
    "        pad_targets_lengths = []\n",
    "        for target in pad_targets_batch:\n",
    "            pad_targets_lengths.append(len(target))\n",
    "\n",
    "        pad_source_lengths = []\n",
    "        for source in pad_sources_batch:\n",
    "            pad_source_lengths.append(len(source))\n",
    "\n",
    "        yield pad_sources_batch, pad_targets_batch, pad_source_lengths, pad_targets_lengths\n"
   ]
  },
  {
   "cell_type": "markdown",
   "metadata": {},
   "source": [
    "### Train\n",
    "Train the neural network on the preprocessed data. If you have a hard time getting a good loss, check the forms to see if anyone is having the same problem."
   ]
  },
  {
   "cell_type": "code",
   "execution_count": 21,
   "metadata": {
    "scrolled": true
   },
   "outputs": [
    {
     "name": "stdout",
     "output_type": "stream",
     "text": [
      "Epoch   0 Batch   10/269 - Train Accuracy: 0.2971, Validation Accuracy: 0.3670, Loss: 3.6754\n",
      "Epoch   0 Batch   20/269 - Train Accuracy: 0.3505, Validation Accuracy: 0.4094, Loss: 3.1061\n",
      "Epoch   0 Batch   30/269 - Train Accuracy: 0.4173, Validation Accuracy: 0.4508, Loss: 2.7486\n",
      "Epoch   0 Batch   40/269 - Train Accuracy: 0.4190, Validation Accuracy: 0.4716, Loss: 2.6725\n",
      "Epoch   0 Batch   50/269 - Train Accuracy: 0.4104, Validation Accuracy: 0.4673, Loss: 2.5034\n",
      "Epoch   0 Batch   60/269 - Train Accuracy: 0.4666, Validation Accuracy: 0.4824, Loss: 2.2165\n",
      "Epoch   0 Batch   70/269 - Train Accuracy: 0.4822, Validation Accuracy: 0.4966, Loss: 2.1097\n",
      "Epoch   0 Batch   80/269 - Train Accuracy: 0.4598, Validation Accuracy: 0.4759, Loss: 2.1427\n",
      "Epoch   0 Batch   90/269 - Train Accuracy: 0.4477, Validation Accuracy: 0.5065, Loss: 2.1766\n",
      "Epoch   0 Batch  100/269 - Train Accuracy: 0.4611, Validation Accuracy: 0.4728, Loss: 1.8695\n",
      "Epoch   0 Batch  110/269 - Train Accuracy: 0.4220, Validation Accuracy: 0.4645, Loss: 1.8396\n",
      "Epoch   0 Batch  120/269 - Train Accuracy: 0.4053, Validation Accuracy: 0.4642, Loss: 1.8211\n",
      "Epoch   0 Batch  130/269 - Train Accuracy: 0.3971, Validation Accuracy: 0.4741, Loss: 1.8071\n",
      "Epoch   0 Batch  140/269 - Train Accuracy: 0.4568, Validation Accuracy: 0.4783, Loss: 1.5727\n",
      "Epoch   0 Batch  150/269 - Train Accuracy: 0.4723, Validation Accuracy: 0.5006, Loss: 1.4954\n",
      "Epoch   0 Batch  160/269 - Train Accuracy: 0.4784, Validation Accuracy: 0.5076, Loss: 1.4140\n",
      "Epoch   0 Batch  170/269 - Train Accuracy: 0.4915, Validation Accuracy: 0.5209, Loss: 1.3548\n",
      "Epoch   0 Batch  180/269 - Train Accuracy: 0.5094, Validation Accuracy: 0.5368, Loss: 1.2821\n",
      "Epoch   0 Batch  190/269 - Train Accuracy: 0.5246, Validation Accuracy: 0.5502, Loss: 1.2344\n",
      "Epoch   0 Batch  200/269 - Train Accuracy: 0.4923, Validation Accuracy: 0.5383, Loss: 1.2407\n",
      "Epoch   0 Batch  210/269 - Train Accuracy: 0.5146, Validation Accuracy: 0.5365, Loss: 1.1405\n",
      "Epoch   0 Batch  220/269 - Train Accuracy: 0.5383, Validation Accuracy: 0.5489, Loss: 1.0569\n",
      "Epoch   0 Batch  230/269 - Train Accuracy: 0.5327, Validation Accuracy: 0.5616, Loss: 1.0652\n",
      "Epoch   0 Batch  240/269 - Train Accuracy: 0.5803, Validation Accuracy: 0.5670, Loss: 0.9415\n",
      "Epoch   0 Batch  250/269 - Train Accuracy: 0.5303, Validation Accuracy: 0.5677, Loss: 0.9989\n",
      "Epoch   0 Batch  260/269 - Train Accuracy: 0.5353, Validation Accuracy: 0.5647, Loss: 0.9832\n",
      "Epoch   1 Batch   10/269 - Train Accuracy: 0.5275, Validation Accuracy: 0.5599, Loss: 0.9035\n",
      "Epoch   1 Batch   20/269 - Train Accuracy: 0.5368, Validation Accuracy: 0.5590, Loss: 0.8939\n",
      "Epoch   1 Batch   30/269 - Train Accuracy: 0.5672, Validation Accuracy: 0.5697, Loss: 0.8242\n",
      "Epoch   1 Batch   40/269 - Train Accuracy: 0.5511, Validation Accuracy: 0.5760, Loss: 0.8474\n",
      "Epoch   1 Batch   50/269 - Train Accuracy: 0.5514, Validation Accuracy: 0.5788, Loss: 0.8277\n",
      "Epoch   1 Batch   60/269 - Train Accuracy: 0.5778, Validation Accuracy: 0.5784, Loss: 0.7359\n",
      "Epoch   1 Batch   70/269 - Train Accuracy: 0.5966, Validation Accuracy: 0.5835, Loss: 0.7616\n",
      "Epoch   1 Batch   80/269 - Train Accuracy: 0.5974, Validation Accuracy: 0.5921, Loss: 0.7447\n",
      "Epoch   1 Batch   90/269 - Train Accuracy: 0.5492, Validation Accuracy: 0.5956, Loss: 0.7774\n",
      "Epoch   1 Batch  100/269 - Train Accuracy: 0.6022, Validation Accuracy: 0.5984, Loss: 0.7077\n",
      "Epoch   1 Batch  110/269 - Train Accuracy: 0.5901, Validation Accuracy: 0.5914, Loss: 0.7014\n",
      "Epoch   1 Batch  120/269 - Train Accuracy: 0.5934, Validation Accuracy: 0.6112, Loss: 0.7121\n",
      "Epoch   1 Batch  130/269 - Train Accuracy: 0.5796, Validation Accuracy: 0.6011, Loss: 0.7161\n",
      "Epoch   1 Batch  140/269 - Train Accuracy: 0.6101, Validation Accuracy: 0.6158, Loss: 0.6928\n",
      "Epoch   1 Batch  150/269 - Train Accuracy: 0.6013, Validation Accuracy: 0.6089, Loss: 0.7130\n",
      "Epoch   1 Batch  160/269 - Train Accuracy: 0.6057, Validation Accuracy: 0.6161, Loss: 0.6709\n",
      "Epoch   1 Batch  170/269 - Train Accuracy: 0.6084, Validation Accuracy: 0.6109, Loss: 0.6499\n",
      "Epoch   1 Batch  180/269 - Train Accuracy: 0.6076, Validation Accuracy: 0.6171, Loss: 0.6434\n",
      "Epoch   1 Batch  190/269 - Train Accuracy: 0.6040, Validation Accuracy: 0.6228, Loss: 0.6244\n",
      "Epoch   1 Batch  200/269 - Train Accuracy: 0.6098, Validation Accuracy: 0.6216, Loss: 0.6575\n",
      "Epoch   1 Batch  210/269 - Train Accuracy: 0.6169, Validation Accuracy: 0.6172, Loss: 0.6100\n",
      "Epoch   1 Batch  220/269 - Train Accuracy: 0.6308, Validation Accuracy: 0.6248, Loss: 0.5759\n",
      "Epoch   1 Batch  230/269 - Train Accuracy: 0.6034, Validation Accuracy: 0.6186, Loss: 0.6063\n",
      "Epoch   1 Batch  240/269 - Train Accuracy: 0.6454, Validation Accuracy: 0.6193, Loss: 0.5447\n",
      "Epoch   1 Batch  250/269 - Train Accuracy: 0.6233, Validation Accuracy: 0.6271, Loss: 0.6018\n",
      "Epoch   1 Batch  260/269 - Train Accuracy: 0.6057, Validation Accuracy: 0.6187, Loss: 0.6106\n",
      "Epoch   2 Batch   10/269 - Train Accuracy: 0.6077, Validation Accuracy: 0.6216, Loss: 0.6010\n",
      "Epoch   2 Batch   20/269 - Train Accuracy: 0.6113, Validation Accuracy: 0.6349, Loss: 0.5912\n",
      "Epoch   2 Batch   30/269 - Train Accuracy: 0.6339, Validation Accuracy: 0.6406, Loss: 0.5579\n",
      "Epoch   2 Batch   40/269 - Train Accuracy: 0.6193, Validation Accuracy: 0.6430, Loss: 0.5775\n",
      "Epoch   2 Batch   50/269 - Train Accuracy: 0.6010, Validation Accuracy: 0.6440, Loss: 0.5647\n",
      "Epoch   2 Batch   60/269 - Train Accuracy: 0.6521, Validation Accuracy: 0.6486, Loss: 0.5123\n",
      "Epoch   2 Batch   70/269 - Train Accuracy: 0.6562, Validation Accuracy: 0.6564, Loss: 0.5288\n",
      "Epoch   2 Batch   80/269 - Train Accuracy: 0.6604, Validation Accuracy: 0.6586, Loss: 0.5211\n",
      "Epoch   2 Batch   90/269 - Train Accuracy: 0.6140, Validation Accuracy: 0.6662, Loss: 0.5421\n",
      "Epoch   2 Batch  100/269 - Train Accuracy: 0.6903, Validation Accuracy: 0.6796, Loss: 0.4943\n",
      "Epoch   2 Batch  110/269 - Train Accuracy: 0.6628, Validation Accuracy: 0.6626, Loss: 0.5028\n",
      "Epoch   2 Batch  120/269 - Train Accuracy: 0.6718, Validation Accuracy: 0.6658, Loss: 0.5055\n",
      "Epoch   2 Batch  130/269 - Train Accuracy: 0.6582, Validation Accuracy: 0.6844, Loss: 0.5029\n",
      "Epoch   2 Batch  140/269 - Train Accuracy: 0.6548, Validation Accuracy: 0.6863, Loss: 0.4868\n",
      "Epoch   2 Batch  150/269 - Train Accuracy: 0.6918, Validation Accuracy: 0.6953, Loss: 0.4629\n",
      "Epoch   2 Batch  160/269 - Train Accuracy: 0.6982, Validation Accuracy: 0.6985, Loss: 0.4532\n",
      "Epoch   2 Batch  170/269 - Train Accuracy: 0.6865, Validation Accuracy: 0.7004, Loss: 0.4481\n",
      "Epoch   2 Batch  180/269 - Train Accuracy: 0.6964, Validation Accuracy: 0.6940, Loss: 0.4397\n",
      "Epoch   2 Batch  190/269 - Train Accuracy: 0.6868, Validation Accuracy: 0.6981, Loss: 0.4280\n",
      "Epoch   2 Batch  200/269 - Train Accuracy: 0.7021, Validation Accuracy: 0.7108, Loss: 0.4477\n",
      "Epoch   2 Batch  210/269 - Train Accuracy: 0.6986, Validation Accuracy: 0.6995, Loss: 0.4124\n",
      "Epoch   2 Batch  220/269 - Train Accuracy: 0.7193, Validation Accuracy: 0.7114, Loss: 0.4119\n",
      "Epoch   2 Batch  230/269 - Train Accuracy: 0.7065, Validation Accuracy: 0.7110, Loss: 0.4214\n",
      "Epoch   2 Batch  240/269 - Train Accuracy: 0.7379, Validation Accuracy: 0.7103, Loss: 0.3649\n",
      "Epoch   2 Batch  250/269 - Train Accuracy: 0.7236, Validation Accuracy: 0.7192, Loss: 0.3993\n",
      "Epoch   2 Batch  260/269 - Train Accuracy: 0.7006, Validation Accuracy: 0.7218, Loss: 0.4187\n",
      "Epoch   3 Batch   10/269 - Train Accuracy: 0.7102, Validation Accuracy: 0.7215, Loss: 0.3866\n",
      "Epoch   3 Batch   20/269 - Train Accuracy: 0.7414, Validation Accuracy: 0.7439, Loss: 0.3794\n",
      "Epoch   3 Batch   30/269 - Train Accuracy: 0.7427, Validation Accuracy: 0.7432, Loss: 0.3628\n",
      "Epoch   3 Batch   40/269 - Train Accuracy: 0.7322, Validation Accuracy: 0.7447, Loss: 0.3697\n",
      "Epoch   3 Batch   50/269 - Train Accuracy: 0.7414, Validation Accuracy: 0.7504, Loss: 0.3668\n",
      "Epoch   3 Batch   60/269 - Train Accuracy: 0.7394, Validation Accuracy: 0.7469, Loss: 0.3265\n",
      "Epoch   3 Batch   70/269 - Train Accuracy: 0.7747, Validation Accuracy: 0.7606, Loss: 0.3345\n",
      "Epoch   3 Batch   80/269 - Train Accuracy: 0.7684, Validation Accuracy: 0.7629, Loss: 0.3271\n",
      "Epoch   3 Batch   90/269 - Train Accuracy: 0.7183, Validation Accuracy: 0.7460, Loss: 0.3608\n",
      "Epoch   3 Batch  100/269 - Train Accuracy: 0.7693, Validation Accuracy: 0.7480, Loss: 0.3173\n",
      "Epoch   3 Batch  110/269 - Train Accuracy: 0.7568, Validation Accuracy: 0.7586, Loss: 0.3054\n"
     ]
    },
    {
     "name": "stdout",
     "output_type": "stream",
     "text": [
      "Epoch   3 Batch  120/269 - Train Accuracy: 0.7728, Validation Accuracy: 0.7728, Loss: 0.3050\n",
      "Epoch   3 Batch  130/269 - Train Accuracy: 0.7806, Validation Accuracy: 0.7774, Loss: 0.3041\n",
      "Epoch   3 Batch  140/269 - Train Accuracy: 0.7747, Validation Accuracy: 0.7824, Loss: 0.2906\n",
      "Epoch   3 Batch  150/269 - Train Accuracy: 0.8043, Validation Accuracy: 0.7941, Loss: 0.2716\n",
      "Epoch   3 Batch  160/269 - Train Accuracy: 0.7959, Validation Accuracy: 0.7953, Loss: 0.2748\n",
      "Epoch   3 Batch  170/269 - Train Accuracy: 0.8009, Validation Accuracy: 0.7946, Loss: 0.2569\n",
      "Epoch   3 Batch  180/269 - Train Accuracy: 0.7987, Validation Accuracy: 0.7877, Loss: 0.2660\n",
      "Epoch   3 Batch  190/269 - Train Accuracy: 0.8198, Validation Accuracy: 0.8168, Loss: 0.2458\n",
      "Epoch   3 Batch  200/269 - Train Accuracy: 0.8138, Validation Accuracy: 0.8112, Loss: 0.2523\n",
      "Epoch   3 Batch  210/269 - Train Accuracy: 0.8245, Validation Accuracy: 0.8256, Loss: 0.2308\n",
      "Epoch   3 Batch  220/269 - Train Accuracy: 0.8143, Validation Accuracy: 0.8197, Loss: 0.2175\n",
      "Epoch   3 Batch  230/269 - Train Accuracy: 0.8201, Validation Accuracy: 0.8279, Loss: 0.2292\n",
      "Epoch   3 Batch  240/269 - Train Accuracy: 0.8302, Validation Accuracy: 0.8271, Loss: 0.2014\n",
      "Epoch   3 Batch  250/269 - Train Accuracy: 0.8444, Validation Accuracy: 0.8363, Loss: 0.2154\n",
      "Epoch   3 Batch  260/269 - Train Accuracy: 0.8165, Validation Accuracy: 0.8373, Loss: 0.2253\n",
      "Epoch   4 Batch   10/269 - Train Accuracy: 0.8362, Validation Accuracy: 0.8350, Loss: 0.2145\n",
      "Epoch   4 Batch   20/269 - Train Accuracy: 0.8486, Validation Accuracy: 0.8472, Loss: 0.2100\n",
      "Epoch   4 Batch   30/269 - Train Accuracy: 0.8520, Validation Accuracy: 0.8502, Loss: 0.1970\n",
      "Epoch   4 Batch   40/269 - Train Accuracy: 0.8539, Validation Accuracy: 0.8561, Loss: 0.2042\n",
      "Epoch   4 Batch   50/269 - Train Accuracy: 0.8437, Validation Accuracy: 0.8515, Loss: 0.2087\n",
      "Epoch   4 Batch   60/269 - Train Accuracy: 0.8307, Validation Accuracy: 0.8438, Loss: 0.1861\n",
      "Epoch   4 Batch   70/269 - Train Accuracy: 0.8799, Validation Accuracy: 0.8699, Loss: 0.1792\n",
      "Epoch   4 Batch   80/269 - Train Accuracy: 0.8757, Validation Accuracy: 0.8716, Loss: 0.1709\n",
      "Epoch   4 Batch   90/269 - Train Accuracy: 0.8521, Validation Accuracy: 0.8837, Loss: 0.1714\n",
      "Epoch   4 Batch  100/269 - Train Accuracy: 0.8884, Validation Accuracy: 0.8730, Loss: 0.1537\n",
      "Epoch   4 Batch  110/269 - Train Accuracy: 0.8750, Validation Accuracy: 0.8825, Loss: 0.1513\n",
      "Epoch   4 Batch  120/269 - Train Accuracy: 0.8771, Validation Accuracy: 0.8687, Loss: 0.1538\n",
      "Epoch   4 Batch  130/269 - Train Accuracy: 0.8772, Validation Accuracy: 0.8841, Loss: 0.1545\n",
      "Epoch   4 Batch  140/269 - Train Accuracy: 0.8780, Validation Accuracy: 0.8747, Loss: 0.1481\n",
      "Epoch   4 Batch  150/269 - Train Accuracy: 0.8787, Validation Accuracy: 0.8846, Loss: 0.1362\n",
      "Epoch   4 Batch  160/269 - Train Accuracy: 0.8905, Validation Accuracy: 0.8953, Loss: 0.1308\n",
      "Epoch   4 Batch  170/269 - Train Accuracy: 0.8870, Validation Accuracy: 0.8859, Loss: 0.1312\n",
      "Epoch   4 Batch  180/269 - Train Accuracy: 0.9019, Validation Accuracy: 0.8821, Loss: 0.1264\n",
      "Epoch   4 Batch  190/269 - Train Accuracy: 0.8836, Validation Accuracy: 0.8825, Loss: 0.1185\n",
      "Epoch   4 Batch  200/269 - Train Accuracy: 0.8910, Validation Accuracy: 0.8913, Loss: 0.1276\n",
      "Epoch   4 Batch  210/269 - Train Accuracy: 0.8957, Validation Accuracy: 0.8857, Loss: 0.1151\n",
      "Epoch   4 Batch  220/269 - Train Accuracy: 0.8975, Validation Accuracy: 0.8809, Loss: 0.1124\n",
      "Epoch   4 Batch  230/269 - Train Accuracy: 0.8945, Validation Accuracy: 0.8880, Loss: 0.1113\n",
      "Epoch   4 Batch  240/269 - Train Accuracy: 0.9030, Validation Accuracy: 0.8925, Loss: 0.1070\n",
      "Epoch   4 Batch  250/269 - Train Accuracy: 0.9067, Validation Accuracy: 0.8920, Loss: 0.1111\n",
      "Epoch   4 Batch  260/269 - Train Accuracy: 0.8782, Validation Accuracy: 0.8879, Loss: 0.1173\n",
      "Epoch   5 Batch   10/269 - Train Accuracy: 0.9007, Validation Accuracy: 0.9012, Loss: 0.1048\n",
      "Epoch   5 Batch   20/269 - Train Accuracy: 0.9057, Validation Accuracy: 0.9039, Loss: 0.1018\n",
      "Epoch   5 Batch   30/269 - Train Accuracy: 0.9062, Validation Accuracy: 0.9010, Loss: 0.0996\n",
      "Epoch   5 Batch   40/269 - Train Accuracy: 0.8899, Validation Accuracy: 0.8975, Loss: 0.1045\n",
      "Epoch   5 Batch   50/269 - Train Accuracy: 0.8849, Validation Accuracy: 0.9043, Loss: 0.1064\n",
      "Epoch   5 Batch   60/269 - Train Accuracy: 0.9092, Validation Accuracy: 0.9091, Loss: 0.0864\n",
      "Epoch   5 Batch   70/269 - Train Accuracy: 0.9132, Validation Accuracy: 0.8976, Loss: 0.0938\n",
      "Epoch   5 Batch   80/269 - Train Accuracy: 0.9112, Validation Accuracy: 0.9135, Loss: 0.0931\n",
      "Epoch   5 Batch   90/269 - Train Accuracy: 0.8943, Validation Accuracy: 0.9054, Loss: 0.0954\n",
      "Epoch   5 Batch  100/269 - Train Accuracy: 0.9179, Validation Accuracy: 0.9081, Loss: 0.0887\n",
      "Epoch   5 Batch  110/269 - Train Accuracy: 0.9122, Validation Accuracy: 0.9074, Loss: 0.0889\n",
      "Epoch   5 Batch  120/269 - Train Accuracy: 0.9125, Validation Accuracy: 0.9066, Loss: 0.0879\n",
      "Epoch   5 Batch  130/269 - Train Accuracy: 0.9113, Validation Accuracy: 0.9093, Loss: 0.0873\n",
      "Epoch   5 Batch  140/269 - Train Accuracy: 0.9059, Validation Accuracy: 0.9133, Loss: 0.0915\n",
      "Epoch   5 Batch  150/269 - Train Accuracy: 0.9162, Validation Accuracy: 0.9189, Loss: 0.0775\n",
      "Epoch   5 Batch  160/269 - Train Accuracy: 0.9096, Validation Accuracy: 0.9221, Loss: 0.0808\n",
      "Epoch   5 Batch  170/269 - Train Accuracy: 0.9049, Validation Accuracy: 0.9171, Loss: 0.0796\n",
      "Epoch   5 Batch  180/269 - Train Accuracy: 0.9295, Validation Accuracy: 0.9172, Loss: 0.0769\n",
      "Epoch   5 Batch  190/269 - Train Accuracy: 0.9021, Validation Accuracy: 0.9121, Loss: 0.0755\n",
      "Epoch   5 Batch  200/269 - Train Accuracy: 0.9130, Validation Accuracy: 0.9221, Loss: 0.0741\n",
      "Epoch   5 Batch  210/269 - Train Accuracy: 0.9093, Validation Accuracy: 0.9072, Loss: 0.0726\n",
      "Epoch   5 Batch  220/269 - Train Accuracy: 0.9191, Validation Accuracy: 0.9260, Loss: 0.0730\n",
      "Epoch   5 Batch  230/269 - Train Accuracy: 0.9237, Validation Accuracy: 0.9171, Loss: 0.0708\n",
      "Epoch   5 Batch  240/269 - Train Accuracy: 0.9288, Validation Accuracy: 0.9222, Loss: 0.0655\n",
      "Epoch   5 Batch  250/269 - Train Accuracy: 0.9363, Validation Accuracy: 0.9249, Loss: 0.0694\n",
      "Epoch   5 Batch  260/269 - Train Accuracy: 0.9113, Validation Accuracy: 0.9257, Loss: 0.0804\n",
      "Epoch   6 Batch   10/269 - Train Accuracy: 0.9224, Validation Accuracy: 0.9324, Loss: 0.0598\n",
      "Epoch   6 Batch   20/269 - Train Accuracy: 0.9284, Validation Accuracy: 0.9291, Loss: 0.0691\n",
      "Epoch   6 Batch   30/269 - Train Accuracy: 0.9212, Validation Accuracy: 0.9241, Loss: 0.0681\n",
      "Epoch   6 Batch   40/269 - Train Accuracy: 0.9089, Validation Accuracy: 0.9219, Loss: 0.0718\n",
      "Epoch   6 Batch   50/269 - Train Accuracy: 0.9136, Validation Accuracy: 0.9285, Loss: 0.0737\n",
      "Epoch   6 Batch   60/269 - Train Accuracy: 0.9291, Validation Accuracy: 0.9224, Loss: 0.0615\n",
      "Epoch   6 Batch   70/269 - Train Accuracy: 0.9372, Validation Accuracy: 0.9227, Loss: 0.0657\n",
      "Epoch   6 Batch   80/269 - Train Accuracy: 0.9328, Validation Accuracy: 0.9300, Loss: 0.0614\n",
      "Epoch   6 Batch   90/269 - Train Accuracy: 0.9290, Validation Accuracy: 0.9239, Loss: 0.0664\n",
      "Epoch   6 Batch  100/269 - Train Accuracy: 0.9313, Validation Accuracy: 0.9391, Loss: 0.0639\n",
      "Epoch   6 Batch  110/269 - Train Accuracy: 0.9202, Validation Accuracy: 0.9289, Loss: 0.0599\n",
      "Epoch   6 Batch  120/269 - Train Accuracy: 0.9210, Validation Accuracy: 0.9313, Loss: 0.0646\n",
      "Epoch   6 Batch  130/269 - Train Accuracy: 0.9304, Validation Accuracy: 0.9219, Loss: 0.0672\n",
      "Epoch   6 Batch  140/269 - Train Accuracy: 0.8607, Validation Accuracy: 0.8615, Loss: 0.1049\n",
      "Epoch   6 Batch  150/269 - Train Accuracy: 0.8675, Validation Accuracy: 0.8649, Loss: 0.1418\n",
      "Epoch   6 Batch  160/269 - Train Accuracy: 0.8888, Validation Accuracy: 0.8950, Loss: 0.0875\n",
      "Epoch   6 Batch  170/269 - Train Accuracy: 0.9073, Validation Accuracy: 0.9139, Loss: 0.0720\n",
      "Epoch   6 Batch  180/269 - Train Accuracy: 0.9418, Validation Accuracy: 0.9238, Loss: 0.0654\n",
      "Epoch   6 Batch  190/269 - Train Accuracy: 0.9083, Validation Accuracy: 0.9259, Loss: 0.0644\n",
      "Epoch   6 Batch  200/269 - Train Accuracy: 0.9267, Validation Accuracy: 0.9279, Loss: 0.0619\n",
      "Epoch   6 Batch  210/269 - Train Accuracy: 0.9320, Validation Accuracy: 0.9221, Loss: 0.0558\n",
      "Epoch   6 Batch  220/269 - Train Accuracy: 0.9248, Validation Accuracy: 0.9345, Loss: 0.0579\n"
     ]
    },
    {
     "name": "stdout",
     "output_type": "stream",
     "text": [
      "Epoch   6 Batch  230/269 - Train Accuracy: 0.9336, Validation Accuracy: 0.9379, Loss: 0.0566\n",
      "Epoch   6 Batch  240/269 - Train Accuracy: 0.9375, Validation Accuracy: 0.9297, Loss: 0.0546\n",
      "Epoch   6 Batch  250/269 - Train Accuracy: 0.9355, Validation Accuracy: 0.9370, Loss: 0.0534\n",
      "Epoch   6 Batch  260/269 - Train Accuracy: 0.9283, Validation Accuracy: 0.9363, Loss: 0.0643\n",
      "Epoch   7 Batch   10/269 - Train Accuracy: 0.9370, Validation Accuracy: 0.9385, Loss: 0.0469\n",
      "Epoch   7 Batch   20/269 - Train Accuracy: 0.9316, Validation Accuracy: 0.9342, Loss: 0.0510\n",
      "Epoch   7 Batch   30/269 - Train Accuracy: 0.9423, Validation Accuracy: 0.9340, Loss: 0.0530\n",
      "Epoch   7 Batch   40/269 - Train Accuracy: 0.9162, Validation Accuracy: 0.9352, Loss: 0.0578\n",
      "Epoch   7 Batch   50/269 - Train Accuracy: 0.9237, Validation Accuracy: 0.9331, Loss: 0.0612\n",
      "Epoch   7 Batch   60/269 - Train Accuracy: 0.9407, Validation Accuracy: 0.9396, Loss: 0.0496\n",
      "Epoch   7 Batch   70/269 - Train Accuracy: 0.9448, Validation Accuracy: 0.9395, Loss: 0.0538\n",
      "Epoch   7 Batch   80/269 - Train Accuracy: 0.9378, Validation Accuracy: 0.9352, Loss: 0.0496\n",
      "Epoch   7 Batch   90/269 - Train Accuracy: 0.9360, Validation Accuracy: 0.9319, Loss: 0.0570\n",
      "Epoch   7 Batch  100/269 - Train Accuracy: 0.9342, Validation Accuracy: 0.9330, Loss: 0.0527\n",
      "Epoch   7 Batch  110/269 - Train Accuracy: 0.9322, Validation Accuracy: 0.9342, Loss: 0.0477\n",
      "Epoch   7 Batch  120/269 - Train Accuracy: 0.9388, Validation Accuracy: 0.9362, Loss: 0.0511\n",
      "Epoch   7 Batch  130/269 - Train Accuracy: 0.9391, Validation Accuracy: 0.9310, Loss: 0.0527\n",
      "Epoch   7 Batch  140/269 - Train Accuracy: 0.9337, Validation Accuracy: 0.9399, Loss: 0.0530\n",
      "Epoch   7 Batch  150/269 - Train Accuracy: 0.9504, Validation Accuracy: 0.9390, Loss: 0.0500\n",
      "Epoch   7 Batch  160/269 - Train Accuracy: 0.9386, Validation Accuracy: 0.9371, Loss: 0.0475\n",
      "Epoch   7 Batch  170/269 - Train Accuracy: 0.9395, Validation Accuracy: 0.9442, Loss: 0.0468\n",
      "Epoch   7 Batch  180/269 - Train Accuracy: 0.9506, Validation Accuracy: 0.9397, Loss: 0.0451\n",
      "Epoch   7 Batch  190/269 - Train Accuracy: 0.9406, Validation Accuracy: 0.9343, Loss: 0.0462\n",
      "Epoch   7 Batch  200/269 - Train Accuracy: 0.9402, Validation Accuracy: 0.9447, Loss: 0.0455\n",
      "Epoch   7 Batch  210/269 - Train Accuracy: 0.9386, Validation Accuracy: 0.9430, Loss: 0.0446\n",
      "Epoch   7 Batch  220/269 - Train Accuracy: 0.9400, Validation Accuracy: 0.9426, Loss: 0.0452\n",
      "Epoch   7 Batch  230/269 - Train Accuracy: 0.9457, Validation Accuracy: 0.9447, Loss: 0.0457\n",
      "Epoch   7 Batch  240/269 - Train Accuracy: 0.9471, Validation Accuracy: 0.9466, Loss: 0.0398\n",
      "Epoch   7 Batch  250/269 - Train Accuracy: 0.9479, Validation Accuracy: 0.9434, Loss: 0.0423\n",
      "Epoch   7 Batch  260/269 - Train Accuracy: 0.9402, Validation Accuracy: 0.9379, Loss: 0.0536\n",
      "Model Trained and Saved\n"
     ]
    }
   ],
   "source": [
    "\"\"\"\n",
    "DON'T MODIFY ANYTHING IN THIS CELL\n",
    "\"\"\"\n",
    "def get_accuracy(target, logits):\n",
    "    \"\"\"\n",
    "    Calculate accuracy\n",
    "    \"\"\"\n",
    "    max_seq = max(target.shape[1], logits.shape[1])\n",
    "    if max_seq - target.shape[1]:\n",
    "        target = np.pad(\n",
    "            target,\n",
    "            [(0,0),(0,max_seq - target.shape[1])],\n",
    "            'constant')\n",
    "    if max_seq - logits.shape[1]:\n",
    "        logits = np.pad(\n",
    "            logits,\n",
    "            [(0,0),(0,max_seq - logits.shape[1])],\n",
    "            'constant')\n",
    "\n",
    "    return np.mean(np.equal(target, logits))\n",
    "\n",
    "# Split data to training and validation sets\n",
    "train_source = source_int_text[batch_size:]\n",
    "train_target = target_int_text[batch_size:]\n",
    "valid_source = source_int_text[:batch_size]\n",
    "valid_target = target_int_text[:batch_size]\n",
    "(valid_sources_batch, valid_targets_batch, valid_sources_lengths, valid_targets_lengths ) = next(get_batches(valid_source,\n",
    "                                                                                                             valid_target,\n",
    "                                                                                                             batch_size,\n",
    "                                                                                                             source_vocab_to_int['<PAD>'],\n",
    "                                                                                                             target_vocab_to_int['<PAD>']))                                                                                                  \n",
    "with tf.Session(graph=train_graph) as sess:\n",
    "    sess.run(tf.global_variables_initializer())\n",
    "\n",
    "    for epoch_i in range(epochs):\n",
    "        for batch_i, (source_batch, target_batch, sources_lengths, targets_lengths) in enumerate(\n",
    "                get_batches(train_source, train_target, batch_size,\n",
    "                            source_vocab_to_int['<PAD>'],\n",
    "                            target_vocab_to_int['<PAD>'])):\n",
    "\n",
    "            _, loss = sess.run(\n",
    "                [train_op, cost],\n",
    "                {input_data: source_batch,\n",
    "                 targets: target_batch,\n",
    "                 lr: learning_rate,\n",
    "                 target_sequence_length: targets_lengths,\n",
    "                 source_sequence_length: sources_lengths,\n",
    "                 keep_prob: keep_probability})\n",
    "\n",
    "\n",
    "            if batch_i % display_step == 0 and batch_i > 0:\n",
    "\n",
    "\n",
    "                batch_train_logits = sess.run(\n",
    "                    inference_logits,\n",
    "                    {input_data: source_batch,\n",
    "                     source_sequence_length: sources_lengths,\n",
    "                     target_sequence_length: targets_lengths,\n",
    "                     keep_prob: 1.0})\n",
    "\n",
    "\n",
    "                batch_valid_logits = sess.run(\n",
    "                    inference_logits,\n",
    "                    {input_data: valid_sources_batch,\n",
    "                     source_sequence_length: valid_sources_lengths,\n",
    "                     target_sequence_length: valid_targets_lengths,\n",
    "                     keep_prob: 1.0})\n",
    "\n",
    "                train_acc = get_accuracy(target_batch, batch_train_logits)\n",
    "\n",
    "                valid_acc = get_accuracy(valid_targets_batch, batch_valid_logits)\n",
    "\n",
    "                print('Epoch {:>3} Batch {:>4}/{} - Train Accuracy: {:>6.4f}, Validation Accuracy: {:>6.4f}, Loss: {:>6.4f}'\n",
    "                      .format(epoch_i, batch_i, len(source_int_text) // batch_size, train_acc, valid_acc, loss))\n",
    "\n",
    "    # Save Model\n",
    "    saver = tf.train.Saver()\n",
    "    saver.save(sess, save_path)\n",
    "    print('Model Trained and Saved')"
   ]
  },
  {
   "cell_type": "markdown",
   "metadata": {},
   "source": [
    "### Save Parameters\n",
    "Save the `batch_size` and `save_path` parameters for inference."
   ]
  },
  {
   "cell_type": "code",
   "execution_count": 22,
   "metadata": {},
   "outputs": [],
   "source": [
    "\"\"\"\n",
    "DON'T MODIFY ANYTHING IN THIS CELL\n",
    "\"\"\"\n",
    "# Save parameters for checkpoint\n",
    "helper.save_params(save_path)"
   ]
  },
  {
   "cell_type": "markdown",
   "metadata": {},
   "source": [
    "# Checkpoint"
   ]
  },
  {
   "cell_type": "code",
   "execution_count": 23,
   "metadata": {},
   "outputs": [],
   "source": [
    "\"\"\"\n",
    "DON'T MODIFY ANYTHING IN THIS CELL\n",
    "\"\"\"\n",
    "import tensorflow as tf\n",
    "import numpy as np\n",
    "import helper\n",
    "import problem_unittests as tests\n",
    "\n",
    "_, (source_vocab_to_int, target_vocab_to_int), (source_int_to_vocab, target_int_to_vocab) = helper.load_preprocess()\n",
    "load_path = helper.load_params()"
   ]
  },
  {
   "cell_type": "markdown",
   "metadata": {},
   "source": [
    "## Sentence to Sequence\n",
    "To feed a sentence into the model for translation, you first need to preprocess it.  Implement the function `sentence_to_seq()` to preprocess new sentences.\n",
    "\n",
    "- Convert the sentence to lowercase\n",
    "- Convert words into ids using `vocab_to_int`\n",
    " - Convert words not in the vocabulary, to the `<UNK>` word id."
   ]
  },
  {
   "cell_type": "code",
   "execution_count": 24,
   "metadata": {},
   "outputs": [
    {
     "name": "stdout",
     "output_type": "stream",
     "text": [
      "Tests Passed\n"
     ]
    }
   ],
   "source": [
    "def sentence_to_seq(sentence, vocab_to_int):\n",
    "    \"\"\"\n",
    "    Convert a sentence to a sequence of ids\n",
    "    :param sentence: String\n",
    "    :param vocab_to_int: Dictionary to go from the words to an id\n",
    "    :return: List of word ids\n",
    "    \"\"\"\n",
    "    \n",
    "    sentence = sentence.lower()\n",
    "    words = sentence.split()\n",
    "    unk = vocab_to_int['<UNK>']\n",
    "\n",
    "    return [vocab_to_int.get(w, unk) for w in words]\n",
    "\n",
    "\n",
    "\"\"\"\n",
    "DON'T MODIFY ANYTHING IN THIS CELL THAT IS BELOW THIS LINE\n",
    "\"\"\"\n",
    "tests.test_sentence_to_seq(sentence_to_seq)"
   ]
  },
  {
   "cell_type": "markdown",
   "metadata": {},
   "source": [
    "## Translate\n",
    "This will translate `translate_sentence` from English to French."
   ]
  },
  {
   "cell_type": "code",
   "execution_count": 30,
   "metadata": {},
   "outputs": [
    {
     "name": "stdout",
     "output_type": "stream",
     "text": [
      "INFO:tensorflow:Restoring parameters from checkpoints/dev\n",
      "Input\n",
      "  Word Ids:      [144, 32, 71, 46, 214, 62, 197]\n",
      "  English Words: ['he', 'saw', 'a', 'old', 'yellow', 'truck', '.']\n",
      "\n",
      "Prediction\n",
      "  Word Ids:      [182, 192, 20, 332, 67, 78, 1]\n",
      "  French Words: il conduit le vieux camion . <EOS>\n"
     ]
    }
   ],
   "source": [
    "translate_sentence = 'he saw a old yellow truck .'\n",
    "\n",
    "\n",
    "\"\"\"\n",
    "DON'T MODIFY ANYTHING IN THIS CELL\n",
    "\"\"\"\n",
    "translate_sentence = sentence_to_seq(translate_sentence, source_vocab_to_int)\n",
    "\n",
    "loaded_graph = tf.Graph()\n",
    "with tf.Session(graph=loaded_graph) as sess:\n",
    "    # Load saved model\n",
    "    loader = tf.train.import_meta_graph(load_path + '.meta')\n",
    "    loader.restore(sess, load_path)\n",
    "\n",
    "    input_data = loaded_graph.get_tensor_by_name('input:0')\n",
    "    logits = loaded_graph.get_tensor_by_name('predictions:0')\n",
    "    target_sequence_length = loaded_graph.get_tensor_by_name('target_sequence_length:0')\n",
    "    source_sequence_length = loaded_graph.get_tensor_by_name('source_sequence_length:0')\n",
    "    keep_prob = loaded_graph.get_tensor_by_name('keep_prob:0')\n",
    "\n",
    "    translate_logits = sess.run(logits, {input_data: [translate_sentence]*batch_size,\n",
    "                                         target_sequence_length: [len(translate_sentence)*2]*batch_size,\n",
    "                                         source_sequence_length: [len(translate_sentence)]*batch_size,\n",
    "                                         keep_prob: 1.0})[0]\n",
    "\n",
    "print('Input')\n",
    "print('  Word Ids:      {}'.format([i for i in translate_sentence]))\n",
    "print('  English Words: {}'.format([source_int_to_vocab[i] for i in translate_sentence]))\n",
    "\n",
    "print('\\nPrediction')\n",
    "print('  Word Ids:      {}'.format([i for i in translate_logits]))\n",
    "print('  French Words: {}'.format(\" \".join([target_int_to_vocab[i] for i in translate_logits])))\n"
   ]
  },
  {
   "cell_type": "markdown",
   "metadata": {},
   "source": [
    "## Imperfect Translation\n",
    "You might notice that some sentences translate better than others.  Since the dataset you're using only has a vocabulary of 227 English words of the thousands that you use, you're only going to see good results using these words.  For this project, you don't need a perfect translation. However, if you want to create a better translation model, you'll need better data.\n",
    "\n",
    "You can train on the [WMT10 French-English corpus](http://www.statmt.org/wmt10/training-giga-fren.tar).  This dataset has more vocabulary and richer in topics discussed.  However, this will take you days to train, so make sure you've a GPU and the neural network is performing well on dataset we provided.  Just make sure you play with the WMT10 corpus after you've submitted this project.\n",
    "## Submitting This Project\n",
    "When submitting this project, make sure to run all the cells before saving the notebook. Save the notebook file as \"dlnd_language_translation.ipynb\" and save it as a HTML file under \"File\" -> \"Download as\". Include the \"helper.py\" and \"problem_unittests.py\" files in your submission."
   ]
  }
 ],
 "metadata": {
  "anaconda-cloud": {},
  "kernelspec": {
   "display_name": "Python 3",
   "language": "python",
   "name": "python3"
  },
  "language_info": {
   "codemirror_mode": {
    "name": "ipython",
    "version": 3
   },
   "file_extension": ".py",
   "mimetype": "text/x-python",
   "name": "python",
   "nbconvert_exporter": "python",
   "pygments_lexer": "ipython3",
   "version": "3.6.3"
  }
 },
 "nbformat": 4,
 "nbformat_minor": 1
}
